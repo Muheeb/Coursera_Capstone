{
 "cells": [
  {
   "cell_type": "markdown",
   "metadata": {
    "collapsed": true
   },
   "source": [
    "# Final Report for the capstone project"
   ]
  },
  {
   "attachments": {},
   "cell_type": "markdown",
   "metadata": {},
   "source": [
    "## Business Understanding: \n"
   ]
  },
  {
   "attachments": {},
   "cell_type": "markdown",
   "metadata": {},
   "source": [
    "#### There is raw food supplier located in Borough “Etobicoke”, Toronto, who supplies local outlets ( cafes, Bakeries, Diners etc…) is about to open a local warehouse in order to present better service for his own suppliers (local farmers for example) and his customers (cafes, Diners etc…) so he wants to pick the optimum location that have close distance to most of the shops in Etobicoke and have proximity to as much shops as possible.\n"
   ]
  },
  {
   "attachments": {},
   "cell_type": "markdown",
   "metadata": {},
   "source": [
    "#### In the previous mentioned issue, the supplier is located in Etobicoke, so we need to extract its coordinates through google. And use it to pen point it on the map, then enrich it with the local postal codes within its borders, and extract what shops of interest we can find within the borders by using foursquare data to decide the optimum location for the warehouse. The figure below shows the postal codes within Etobicoke.\n"
   ]
  },
  {
   "attachments": {},
   "cell_type": "markdown",
   "metadata": {},
   "source": [
    "## Data Sources:\n",
    "#### 1. Wikipedia: https://bit.ly/2DP1Tuk\n",
    "#### 2. Geospatial data: http://cocl.us/Geospatial_data\n",
    "#### 3. Foursquare data"
   ]
  },
  {
   "cell_type": "markdown",
   "metadata": {},
   "source": [
    "## Methodology: Machine Learning through k-means clustering"
   ]
  },
  {
   "attachments": {},
   "cell_type": "markdown",
   "metadata": {},
   "source": [
    "### Data Preparation\n",
    "#### 1. Getting postalcodes raw data from Wikipedia as in figure, we get familiar to the data and its fields.\n",
    "#### 2. We match then with geospatial data and join them on the postal code. And now we have coordinates for each borough.\n",
    "#### 3. Lastly we crawl foursquare to get venues within the borough we specified.\n",
    "\n",
    "#### By connecting to Foursquare API we then can retrieve local data for each Venue in every neighborhood where we were able to mine for data about venues inside each and every neighborhood. For each neighborhood, we have set a radius of 1000m. After that; by processing the Retrieved Data we can create a Data Frame for All the Venues inside the Etobicoke, when the data is mined, we then perform processing on that raw data to find our desirable features for each venue. The main feature is the category of the venues. After that, the column \"Venue's Category\" will be One-hot encoded and different venues will have different feature-columns. After One-hot encoding we lastly integrate all restaurants columns to one column \"Total Restaurants\" and all food joined columns to \"Total Joints\" column.\n",
    "#### The k-means clustering was used due to its effieciency in identifying relationships between multiple parameters, as well as the ease of locating nearest neighbors that look alike. \n"
   ]
  },
  {
   "attachments": {},
   "cell_type": "markdown",
   "metadata": {},
   "source": [
    "### Result:\n",
    "#### Lastly, we set centers of clusters and compare them for their \"Total Restaurants\" and their \"Total Joints\". The group which its center has the highest \"Total Sum\" will be our best recommendation to the row ingredients supplier. \n",
    "#### P.S.: Total Sum = Total Restaurants + Total Joints.\n",
    "#### Where the best cluster was coded as A2, then A4 and A3 and so on. This outcome is then given to the supplier in order to start looking for a warehouse in the A2 cluster. And specifically in the below neighborhood: \n"
   ]
  },
  {
   "cell_type": "markdown",
   "metadata": {},
   "source": [
    "## Conclusion:\n",
    "#### Foursquare data worked in our favor for this project, it is indeed gold mine for location data whererever needed, the format and the ease of handling it makes it useful. Also the Clustering in the machine learning worked hand in hand with the data we provided and it gave a great result that is beneficial for our row food supplier."
   ]
  },
  {
   "cell_type": "code",
   "execution_count": null,
   "metadata": {},
   "outputs": [],
   "source": []
  }
 ],
 "metadata": {
  "kernelspec": {
   "display_name": "Python 3.5",
   "language": "python",
   "name": "python3"
  },
  "language_info": {
   "codemirror_mode": {
    "name": "ipython",
    "version": 3
   },
   "file_extension": ".py",
   "mimetype": "text/x-python",
   "name": "python",
   "nbconvert_exporter": "python",
   "pygments_lexer": "ipython3",
   "version": "3.5.5"
  }
 },
 "nbformat": 4,
 "nbformat_minor": 1
}
